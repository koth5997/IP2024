{
 "cells": [
  {
   "cell_type": "code",
   "execution_count": 1,
   "metadata": {},
   "outputs": [
    {
     "name": "stdout",
     "output_type": "stream",
     "text": [
      "x equals 3.\n",
      "This is outside the 'if'\n"
     ]
    }
   ],
   "source": [
    "x=3\n",
    "if x == 3:\n",
    "    print (\"x equals 3.\")\n",
    "elif x == 2:\n",
    "    print (\"x equals 2.\")\n",
    "else:\n",
    "    print (\"X equals something else.\")\n",
    "print(\"This is outside the 'if'\")\n"
   ]
  },
  {
   "cell_type": "code",
   "execution_count": 6,
   "metadata": {},
   "outputs": [
    {
     "name": "stdout",
     "output_type": "stream",
     "text": [
      "3 still in the loop\n",
      "4 still in the loop\n"
     ]
    }
   ],
   "source": [
    "x = 3\n",
    "while x < 5:\n",
    "    print (x, \"still in the loop\")\n",
    "    x= x+1\n",
    "\n",
    "    y = 6\n",
    "    while y < 5:\n",
    "        print (y, \"still in the loop\")"
   ]
  }
 ],
 "metadata": {
  "kernelspec": {
   "display_name": "base",
   "language": "python",
   "name": "python3"
  },
  "language_info": {
   "codemirror_mode": {
    "name": "ipython",
    "version": 3
   },
   "file_extension": ".py",
   "mimetype": "text/x-python",
   "name": "python",
   "nbconvert_exporter": "python",
   "pygments_lexer": "ipython3",
   "version": "3.12.4"
  }
 },
 "nbformat": 4,
 "nbformat_minor": 2
}
