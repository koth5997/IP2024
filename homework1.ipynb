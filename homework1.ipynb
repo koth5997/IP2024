{
 "cells": [
  {
   "cell_type": "code",
   "execution_count": 3,
   "metadata": {},
   "outputs": [],
   "source": [
    "import cv2\n",
    "import numpy as np\n",
    "\n",
drawing = False  
mode = True  
ix, iy = -1, -1 
current_x, current_y = 0, 0 


def draw_shape(event, x, y, flags, param):
    global ix, iy, drawing, mode, current_x, current_y, img

    current_x, current_y = x, y  
   
    if event == cv2.EVENT_LBUTTONDOWN:
        drawing = True
        ix, iy = x, y

    elif event == cv2.EVENT_MOUSEMOVE:
        if drawing:
            if mode:  
                img = img_copy.copy()
                cv2.rectangle(img, (ix, iy), (x, y), (0, 255, 0), -1)
            else: 
                img = img_copy.copy()
                cv2.circle(img, (x, y), 5, (0, 0, 255), -1)

    elif event == cv2.EVENT_LBUTTONUP:
        drawing = False
        if mode:
            cv2.rectangle(img, (ix, iy), (x, y), (0, 0, 255), -1)
        else:
            cv2.circle(img, (x, y), 5, (255, 0, 255), -1)

def nothing(x):
    pass


img1 = cv2.imread('audi.jpg')
if img1 is None:
    print("이미지를 불러오지 못했습니다.")
    exit()


img = np.zeros((512, 512, 3), np.uint8)
img_copy = img.copy()

cv2.namedWindow('image')
cv2.setMouseCallback('image', draw_shape)


cv2.createTrackbar('median', 'image', 0, 10, nothing)

while True:
 
    m = cv2.getTrackbarPos('median', 'image')

    if m > 0:
        ming1 = cv2.medianBlur(img1, 2 * m + 1)
    else:
        ming1 = img1.copy()

   
    img_copy = ming1.copy()
    temp_img = img.copy()

    
    cv2.putText(temp_img, f"Mouse position ({ix},{iy}) - ({current_x},{current_y})", 
                (10, 30), cv2.FONT_HERSHEY_SIMPLEX, 0.7, (255, 255, 255), 2)
    

    cv2.imshow('image', temp_img)

  
    k = cv2.waitKey(1) & 0xFF
    if k == ord('m'): 
        mode = not mode
    elif k == 27:  
        break

cv2.destroyAllWindows()



    "\n",
    "\n"
   ]
  },
  {
   "cell_type": "code",
   "execution_count": null,
   "metadata": {},
   "outputs": [],
   "source": [
    "import cv2\n",
    "import numpy as np\n",
    "\n"
   ]
  }
 ],
 "metadata": {
  "kernelspec": {
   "display_name": "IP2024",
   "language": "python",
   "name": "python3"
  },
  "language_info": {
   "codemirror_mode": {
    "name": "ipython",
    "version": 3
   },
   "file_extension": ".py",
   "mimetype": "text/x-python",
   "name": "python",
   "nbconvert_exporter": "python",
   "pygments_lexer": "ipython3",
   "version": "3.8.19"
  }
 },
 "nbformat": 4,
 "nbformat_minor": 2
}
